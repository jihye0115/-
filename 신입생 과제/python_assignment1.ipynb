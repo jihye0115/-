{
 "cells": [
  {
   "cell_type": "markdown",
   "metadata": {},
   "source": [
    "# Scientific Programming in Python - Introduction"
   ]
  },
  {
   "cell_type": "markdown",
   "metadata": {},
   "source": [
    "## How to solve these exercises\n",
    "\n",
    "We use an iPython notebook for all of our exercises. The process is very similar compared to the live coding sessions, but instead of repeating what we do in front of the class we already made a notebook for you that you can complete yourself.\n",
    "\n",
    "We have classified exercises according to their difficulty as **Basics**, **Medium** and **Involved**. Make sure you do at least the **Basics** exercises for each topic and the **Medium** if you can, but don't worry if you get stuck on the **Involved** ones. \n",
    "\n",
    "If you have questions, just approach one of the tutors."
   ]
  },
  {
   "cell_type": "markdown",
   "metadata": {},
   "source": [
    "### Problem 1. Convert imperial to metric"
   ]
  },
  {
   "cell_type": "markdown",
   "metadata": {},
   "source": [
    "Write a formula to convert a weight from pounds into kilograms."
   ]
  },
  {
   "cell_type": "markdown",
   "metadata": {},
   "source": [
    ">**(a)** Modify the code in the following cell in such a way that it calculates the corresponding kilogram weight. Remember that all text to the right of a ‘#’ character is a comment that is ignored by python."
   ]
  },
  {
   "cell_type": "code",
   "execution_count": 1,
   "metadata": {},
   "outputs": [
    {
     "name": "stdout",
     "output_type": "stream",
     "text": [
      "Weight in kilograms: 62.1\n"
     ]
    }
   ],
   "source": [
    "weight_lbs = 138.0 # in pounds\n",
    "weight_kg = weight_lbs * 0.45\n",
    "print('Weight in kilograms: ' + str(weight_kg))"
   ]
  },
  {
   "cell_type": "markdown",
   "metadata": {},
   "source": [
    ">**(b)** To get your program to ask you for a value and get a variable that contains that value, use the function <code>raw_input()</code>. This function will return a string and so you will have to convert it to a number using the function <code>float()</code>. Modify the the following cell so that it asks you for a weight in pounds. When you run it in ipython, it should work like this:"
   ]
  },
  {
   "cell_type": "raw",
   "metadata": {},
   "source": [
    "Enter weight in pounds: 138.0\n",
    "Weight in kilograms: 62.1"
   ]
  },
  {
   "cell_type": "code",
   "execution_count": 2,
   "metadata": {},
   "outputs": [
    {
     "name": "stdout",
     "output_type": "stream",
     "text": [
      "Enter weight in pounds:138.0\n",
      "Weight in kilograms:  62.1\n"
     ]
    }
   ],
   "source": [
    "weight_lbs = float(input(\"Enter weight in pounds:\")) # code here\n",
    "# raw_input은 버전 문제로 사용 불가\n",
    "weight_kg = weight_lbs * 0.45 # code here\n",
    "print(\"Weight in kilograms: \", weight_kg)"
   ]
  },
  {
   "cell_type": "markdown",
   "metadata": {},
   "source": [
    ">**(c)** This program should convert Farenheit to Celcius, but there are two bugs in the code. Figure out what they are and fix them so that it converts Farenheit to Celcius.\n",
    "(Hint: if you are having trouble, break up the formula into multiple steps and put a ‘print’ statement after each one so you can see the result of the step. Make sure each of the steps are doing what you think they should do.)"
   ]
  },
  {
   "cell_type": "code",
   "execution_count": 3,
   "metadata": {},
   "outputs": [
    {
     "name": "stdout",
     "output_type": "stream",
     "text": [
      "Enter a temperature in Farenheit: 45\n",
      "Temperature in Celcius: 7.222222222222222\n"
     ]
    }
   ],
   "source": [
    "temp_far = float(input('Enter a temperature in Farenheit: ')) \n",
    "temp_cel = 5/9 * (temp_far - 32)\n",
    "print('Temperature in Celcius: ' + str(temp_cel)) #섭씨온도를 출력해야함"
   ]
  },
  {
   "cell_type": "markdown",
   "metadata": {},
   "source": [
    ">**(d)** Convert the programs used in (b) and (c) in such a way that they use functions"
   ]
  },
  {
   "cell_type": "code",
   "execution_count": 4,
   "metadata": {},
   "outputs": [],
   "source": [
    "# Complete this function:\n",
    "def lb_to_kg(lb):\n",
    "    kg = lb * 0.45\n",
    "    return kg\n",
    "\n",
    "# Wite a cel_to_far function from scratch!\n",
    "def far_to_cel(far):\n",
    "    cel = 5/9 * (far - 32)\n",
    "    return cel"
   ]
  },
  {
   "cell_type": "code",
   "execution_count": 5,
   "metadata": {},
   "outputs": [
    {
     "name": "stdout",
     "output_type": "stream",
     "text": [
      "62.1\n",
      "7.222222222222222\n"
     ]
    }
   ],
   "source": [
    "print(lb_to_kg(138.0))\n",
    "print(far_to_cel(45))"
   ]
  },
  {
   "cell_type": "markdown",
   "metadata": {},
   "source": [
    "### Problem 2. A little bit of math"
   ]
  },
  {
   "cell_type": "markdown",
   "metadata": {},
   "source": [
    "The following code asks you to enter three numbers and then finds the mean of those numbers."
   ]
  },
  {
   "cell_type": "code",
   "execution_count": 6,
   "metadata": {},
   "outputs": [
    {
     "name": "stdout",
     "output_type": "stream",
     "text": [
      "Enter the first number: 4\n",
      "Enter the second number: 5\n",
      "Enter the third number: 6\n",
      "5.0\n"
     ]
    }
   ],
   "source": [
    "x1 = float(input('Enter the first number: '))\n",
    "x2 = float(input('Enter the second number: '))\n",
    "x3 = float(input('Enter the third number: '))\n",
    "xhat = (x1 + x2 + x3) / 3.0\n",
    "print(xhat)"
   ]
  },
  {
   "cell_type": "markdown",
   "metadata": {},
   "source": [
    ">**(a)** Modify this code so that it prints the mean on the first line of its output and prints the standard deviation of the three numbers on the second line of its output. Remember that the standard deviation of a sample $x_1,x_2,\\ldots,x_n$ with sample mean $\\hat{x}=\\sum_{i=1}^n x_i/n $ is defined to be:\n",
    "\n",
    "<center>$ s = \\sqrt{\\displaystyle\\frac{1}{n-1}\\displaystyle\\sum_{i=1}^n(x_i - \\hat{x})^2}$</center>\n",
    "\n",
    ">The program should work like this when run:"
   ]
  },
  {
   "cell_type": "code",
   "execution_count": 8,
   "metadata": {},
   "outputs": [
    {
     "name": "stdout",
     "output_type": "stream",
     "text": [
      "Enter the first number: 3\n",
      "Enter the second number: 7\n",
      "Enter the third number: 29\n",
      "mean is 13.0\n",
      "simple_stdev is 14.0\n"
     ]
    }
   ],
   "source": [
    "from math import sqrt\n",
    "x1 = float(input('Enter the first number: '))\n",
    "x2 = float(input('Enter the second number: '))\n",
    "x3 = float(input('Enter the third number: '))\n",
    "\n",
    "# Your code here\n",
    "n = 3\n",
    "\n",
    "def simple_stdev(x1, x2, x3):\n",
    "    '''This calculates the standard deviation for three numbers'''\n",
    "    three_mean = (x1 + x2 + x3) / 3.0\n",
    "    three_stdev = sqrt(1/(n-1) * ((x1-three_mean)**2 + (x2-three_mean)**2 + (x3-three_mean)**2))\n",
    "    print('mean is', three_mean)\n",
    "    print('simple_stdev is', three_stdev)\n",
    "    pass\n",
    "simple_stdev(x1, x2, x3)"
   ]
  },
  {
   "cell_type": "raw",
   "metadata": {},
   "source": [
    "Enter the first number: 3\n",
    "Enter the second number: 7\n",
    "Enter the third number: 29\n",
    "13.0 \n",
    "14.0"
   ]
  },
  {
   "cell_type": "markdown",
   "metadata": {},
   "source": [
    ">**Hint:** If you are having trouble, write out the standard deviation in the equation above for $n=3$ because in this example there are three samples (don't expand the squares). Then, make a new line of code where you assign a variable called $s$ to the equation you wrote out. To translate the standard deviation formula into code, $x_1,x_2$ and $x_3$ should be written as $x1$, $x2$ and $x3$. The expression $(x_1-\\hat{x})^2$ should be written as $(x1 - xhat)**2$. When you want to write the square root of something, you have to put it <code>sqrt(here)</code> inside brackets. If you are using ipython, then <code>sqrt()</code> is automatically loaded in the interpreter. Otherwise, you have to import it like this:"
   ]
  },
  {
   "cell_type": "code",
   "execution_count": 9,
   "metadata": {},
   "outputs": [],
   "source": [
    "from math import sqrt"
   ]
  },
  {
   "cell_type": "markdown",
   "metadata": {},
   "source": [
    "### Problem 3. Calculator"
   ]
  },
  {
   "cell_type": "markdown",
   "metadata": {},
   "source": [
    "Let’s now try our hands on computing some miscellaneous quantities."
   ]
  },
  {
   "cell_type": "markdown",
   "metadata": {},
   "source": [
    ">**(a)** The perimeter and area of a circle."
   ]
  },
  {
   "cell_type": "code",
   "execution_count": 10,
   "metadata": {},
   "outputs": [
    {
     "name": "stdout",
     "output_type": "stream",
     "text": [
      "A circle of radius 5.0 has a perimeter of 31.41592653589793 and an area of 78.53981633974483\n"
     ]
    }
   ],
   "source": [
    "import math\n",
    "radius = 5.\n",
    "circle_perimeter = 2 * math.pi * radius # Replace me\n",
    "circle_area = math.pi * (radius**2) # Replace me\n",
    "print('A circle of radius ' + str(radius) + ' has a perimeter of ' +\n",
    "   str(circle_perimeter) + ' and an area of ' + str(circle_area))"
   ]
  },
  {
   "cell_type": "markdown",
   "metadata": {},
   "source": [
    ">**(b)** The golden ratio."
   ]
  },
  {
   "cell_type": "code",
   "execution_count": 11,
   "metadata": {},
   "outputs": [
    {
     "name": "stdout",
     "output_type": "stream",
     "text": [
      "The golden ratio is equal to 1.618033988749895\n"
     ]
    }
   ],
   "source": [
    "from math import sqrt\n",
    "golden_ratio = (sqrt(5) + 1) / 2 # Replace me\n",
    "print('The golden ratio is equal to ' + str(golden_ratio))"
   ]
  },
  {
   "cell_type": "markdown",
   "metadata": {},
   "source": [
    ">**(c)** The height, volume and area of a **regular** pentagonal pyramid."
   ]
  },
  {
   "cell_type": "code",
   "execution_count": 12,
   "metadata": {},
   "outputs": [
    {
     "name": "stdout",
     "output_type": "stream",
     "text": [
      "A regular pentagonal pyramid of side length 2.0 has a height of 1.0514622242382672, an area of 15.542163640200256 and a volume of 2.4120226591665967.\n",
      "Interesting, I suppose.\n"
     ]
    }
   ],
   "source": [
    "from math import sqrt\n",
    "side_length = 2.\n",
    "pyramid_height = sqrt((5-sqrt(5))/10) * side_length # Replace me \n",
    "pyramid_area = (side_length**2)/2*sqrt(5/2*(10+sqrt(5)+sqrt(75+30*sqrt(5)))) # Replace me \n",
    "pyramid_volume = (5+sqrt(5))/24*(side_length**3) # Replace me\n",
    "print('A regular pentagonal pyramid of side length ' + str(side_length) + ' has a height of ' + \\\n",
    "        str(pyramid_height) + ', an area of ' + str(pyramid_area) + ' and a volume of ' + \n",
    "        str(pyramid_volume) + '.\\nInteresting, I suppose.')"
   ]
  },
  {
   "cell_type": "markdown",
   "metadata": {},
   "source": [
    ">**(d)** The fractal dimension (Hausdorff dimension) of a Sierpinski Dodecahedron. Is it larger or smaller than the fractal dimension of a cauliflower?"
   ]
  },
  {
   "cell_type": "code",
   "execution_count": 13,
   "metadata": {},
   "outputs": [
    {
     "name": "stdout",
     "output_type": "stream",
     "text": [
      "A Sierpinski Dodecahedron has a fractal dimension of 2.329621716170345, how intriguing!\n",
      "A cauliflower has a fractal dimension of 2.3347175194727927\n",
      "The cauliflower wins. Obviously.\n"
     ]
    }
   ],
   "source": [
    "import math\n",
    "golden_ratio = (sqrt(5) + 1) / 2\n",
    "dodecahedron_fractal_dimension = math.log(20)/(math.log(2+golden_ratio)) # Replace me\n",
    "cauliflower_fractal_dimension = math.log(13)/math.log(3) # Replace me\n",
    "\n",
    "print('A Sierpinski Dodecahedron has a fractal dimension of ' + \n",
    "        str(dodecahedron_fractal_dimension) + ', how intriguing!')\n",
    "print('A cauliflower has a fractal dimension of ' + str(cauliflower_fractal_dimension))\n",
    "\n",
    "if dodecahedron_fractal_dimension > cauliflower_fractal_dimension: \n",
    "    print('The dodecahedron wins.')\n",
    "else: \n",
    "    print('The cauliflower wins. Obviously.')"
   ]
  },
  {
   "cell_type": "markdown",
   "metadata": {},
   "source": [
    ">**Hints:** The use of Wikipedia to refresh your memory is completely encouraged. All the mathematic formulae that you’ll need are in the module math. Either check online (http://docs.python.org/library/math.html) or by importing the module and looking for its content using ipython:\n"
   ]
  },
  {
   "cell_type": "code",
   "execution_count": 14,
   "metadata": {},
   "outputs": [],
   "source": [
    "import math"
   ]
  },
  {
   "cell_type": "markdown",
   "metadata": {},
   "source": [
    "### Problem 4. Strings manipulation\n",
    "\n",
    "We will now try a few functions from the standard library for strings. Everything you need should be available in the string module."
   ]
  },
  {
   "cell_type": "markdown",
   "metadata": {},
   "source": [
    ">**(a)** Find the functions to transform the following string into: lowercase, uppercase, sentence- case (first letter of first word is capitalized)."
   ]
  },
  {
   "cell_type": "code",
   "execution_count": 15,
   "metadata": {},
   "outputs": [
    {
     "name": "stdout",
     "output_type": "stream",
     "text": [
      "uSiNg aPPrOpRiAtE cApiTaLISAtiOn iS iMpOrTaNt fOr yOuR rEaDerS' SANity\n",
      "using appropriate capitalisation is important for your readers' sanity\n",
      "USING APPROPRIATE CAPITALISATION IS IMPORTANT FOR YOUR READERS' SANITY\n",
      "Using appropriate capitalisation is important for your readers' sanity\n"
     ]
    }
   ],
   "source": [
    "import string\n",
    "\n",
    "message = \"uSiNg aPPrOpRiAtE cApiTaLISAtiOn iS iMpOrTaNt fOr yOuR rEaDerS' SANity\"\n",
    "lowercased = message.lower() # Replace me \n",
    "uppercased = message.upper() # Replace me\n",
    "sentencecased = message.capitalize() # Replace me\n",
    "\n",
    "print(message + '\\n' + lowercased + '\\n' + uppercased + '\\n' + sentencecased)"
   ]
  },
  {
   "cell_type": "markdown",
   "metadata": {},
   "source": [
    ">**Hints:** Read the string module documentation carefully! https://docs.python.org/2/library/string.html Functions sometimes have similar names, but do different things!\n"
   ]
  },
  {
   "cell_type": "markdown",
   "metadata": {},
   "source": [
    ">**(b)** Find how to align some text to the left, the right or to the center of a string of known fixed width. This could be useful to align your table in the next problem for example."
   ]
  },
  {
   "cell_type": "code",
   "execution_count": 16,
   "metadata": {},
   "outputs": [
    {
     "name": "stdout",
     "output_type": "stream",
     "text": [
      "I want this aligned properly! \n",
      "********************\n",
      "align me            \n",
      "            align me\n",
      "      align me      \n",
      "********************\n"
     ]
    }
   ],
   "source": [
    "from string import *\n",
    "# Question (b)\n",
    "text = 'align me'\n",
    "width = 20\n",
    "stars = '*'*width\n",
    "text_left   = text.ljust(width) # Replace me\n",
    "text_right  = text.rjust(width) # Replace me\n",
    "text_center = text.center(width) # Replace me\n",
    "\n",
    "print('I want this aligned properly! ' + '\\n' + stars + '\\n' + text_left + '\\n' + \n",
    "        text_right + '\\n' + text_center + '\\n' + stars)"
   ]
  },
  {
   "cell_type": "markdown",
   "metadata": {},
   "source": [
    ">**(c)** Enforce the correct spelling of Python. It is not “Pyhton”, “python” or “pythons”. (Hint: you can chain multiple function calls: the output of one function can be the input of another one)"
   ]
  },
  {
   "cell_type": "code",
   "execution_count": 17,
   "metadata": {},
   "outputs": [
    {
     "name": "stdout",
     "output_type": "stream",
     "text": [
      "Scientific Programming in Pyhton: The student will be able to write simple programs in pythons.\n",
      "Scientific Programming in Python: The student will be able to write simple programs in Pythons.\n",
      "\n",
      "Scientific Programming in Python: The student will be able to write simple programs in Python.\n"
     ]
    }
   ],
   "source": [
    "from string import *\n",
    "# Question (c)\n",
    "email = \"Scientific Programming in Pyhton: The student will be able to write simple programs in pythons.\"\n",
    "corrected = str.replace(str.replace(str.replace(email, 'Pyhton', 'Python'),\n",
    "                                    'python', 'Python'), 'pythons', 'Python') # Replace me \n",
    "print(email + '\\n' + corrected + \"\\n\")\n",
    "\n",
    "def spellchecker(email):\n",
    "    spell = email.split()\n",
    "    for i in range(len(spell)):\n",
    "        if spell[i] == 'Pyhton:':\n",
    "            spell[i] = 'Python:'\n",
    "        elif spell[i] == 'pythons.':\n",
    "            spell[i] = 'Python.'\n",
    "    corrected_email = spell\n",
    "    print(\" \".join(corrected_email))\n",
    "    pass\n",
    "\n",
    "spellchecker(email)"
   ]
  },
  {
   "cell_type": "markdown",
   "metadata": {},
   "source": [
    ">**(d)** Do what Python is doing to your code: remove everything after the first “#” you find on a line. Also remove all trailing (e.g. at the end) whitespaces."
   ]
  },
  {
   "cell_type": "code",
   "execution_count": 18,
   "metadata": {},
   "outputs": [
    {
     "name": "stdout",
     "output_type": "stream",
     "text": [
      "print 'I quite like Python already!'  # Actually, I just want easy credits\n",
      "print 'I quite like Python already!'\n"
     ]
    }
   ],
   "source": [
    "line = \"print 'I quite like Python already!'  # Actually, I just want easy credits\"\n",
    "no_comments = line.split('#')[0].rstrip() # Replace me \n",
    "print(line + '\\n' + no_comments)"
   ]
  },
  {
   "cell_type": "markdown",
   "metadata": {},
   "source": [
    "### Problem 5 *Basics*: Alphabet \n",
    "In this problem we’ll recap basic list methods, using the alphabet"
   ]
  },
  {
   "cell_type": "markdown",
   "metadata": {},
   "source": [
    ">**(a)** We’ll first start by making a list each of the upper and lower case letters in the English alphabet:"
   ]
  },
  {
   "cell_type": "code",
   "execution_count": 19,
   "metadata": {},
   "outputs": [
    {
     "name": "stdout",
     "output_type": "stream",
     "text": [
      "['A', 'B', 'C', 'D', 'E', 'F', 'G', 'H', 'I', 'J', 'K', 'L', 'M', 'N', 'O', 'P', 'Q', 'R', 'S', 'T', 'U', 'V', 'W', 'X', 'Y', 'Z'] \n",
      " ['a', 'b', 'c', 'd', 'e', 'f', 'g', 'h', 'i', 'j', 'k', 'l', 'm', 'n', 'o', 'p', 'q', 'r', 's', 't', 'u', 'v', 'w', 'x', 'y', 'z']\n"
     ]
    }
   ],
   "source": [
    "import string\n",
    "# your code here\n",
    "uc = list(string.ascii_uppercase)\n",
    "lc = list(string.ascii_lowercase)\n",
    "print(uc, \"\\n\", lc)\n",
    "\n",
    "# The result should look like this:\n",
    "# uc = ['A', 'B', 'C', 'D', 'E', 'F', 'G', 'H', 'I', 'J', 'K', 'L', 'M', 'N', 'O', \n",
    "#       'P', 'Q', 'R', 'S', 'T', 'U', 'V', 'W', 'X', 'Y', 'Z']\n",
    "# lc = ['a', 'b', 'c', 'd', 'e', 'f', 'g', 'h', 'i', 'j', 'k', 'l', 'm', 'n', 'o', \n",
    "#       'p', 'q', 'r', 's', 't', 'u', 'v', 'w', 'x', 'y', 'z']"
   ]
  },
  {
   "cell_type": "markdown",
   "metadata": {},
   "source": [
    ">**(b)** Blank your full name from both lists, using a ```for``` loop (it's easiest to first concatenate them):"
   ]
  },
  {
   "cell_type": "code",
   "execution_count": 20,
   "metadata": {},
   "outputs": [
    {
     "name": "stdout",
     "output_type": "stream",
     "text": [
      "['A', 'B', 'C', 'D', 'E', 'F', 'G', '*', 'I', '*', 'K', 'L', 'M', 'N', 'O', 'P', 'Q', 'R', 'S', 'T', 'U', 'V', 'W', 'X', '*', 'Z', 'a', 'b', 'c', 'd', '*', 'f', 'g', 'h', '*', 'j', 'k', 'l', 'm', 'n', 'o', 'p', 'q', 'r', 's', 't', 'u', 'v', 'w', 'x', '*', 'z']\n"
     ]
    }
   ],
   "source": [
    "# Hint: For each item in the list, check whether it is in the name\n",
    "both = uc + lc\n",
    "myname = \"Ye Ji Hye\"\n",
    "\n",
    "for i in range(len(both)):\n",
    "    if both[i] in myname:\n",
    "        both[i] = '*'\n",
    "print(both)\n",
    "\n",
    "# The result should look like this if you blank \"Jeremy Bentham\":\n",
    "# ['A', '*', 'C', 'D', 'E', 'F', 'G', 'H', 'I', '*', 'K', 'L', 'M', 'N', 'O', 'P', 'Q', 'R', 'S', 'T', \n",
    "#  'U', 'V', 'W', 'X', 'Y', 'Z', '*', 'b', 'c', 'd', '*', 'f', 'g', '*', 'i', 'j', 'k', 'l', '*', '*', \n",
    "#  'o', 'p', 'q', '*', 's', '*', 'u', 'v', 'w', 'x', '*', 'z']"
   ]
  },
  {
   "cell_type": "markdown",
   "metadata": {},
   "source": [
    ">**(c)** Sort the list and remove the leading blanks:\n",
    "\n",
    "> Hint: print each letter along with its index; you can then create a new list with a ```slice```"
   ]
  },
  {
   "cell_type": "code",
   "execution_count": 21,
   "metadata": {},
   "outputs": [
    {
     "name": "stdout",
     "output_type": "stream",
     "text": [
      "0 *\n",
      "1 *\n",
      "2 *\n",
      "3 *\n",
      "4 *\n",
      "5 *\n",
      "6 A\n",
      "7 B\n",
      "8 C\n",
      "9 D\n",
      "10 E\n",
      "11 F\n",
      "12 G\n",
      "13 I\n",
      "14 K\n",
      "15 L\n",
      "16 M\n",
      "17 N\n",
      "18 O\n",
      "19 P\n",
      "20 Q\n",
      "21 R\n",
      "22 S\n",
      "23 T\n",
      "24 U\n",
      "25 V\n",
      "26 W\n",
      "27 X\n",
      "28 Z\n",
      "29 a\n",
      "30 b\n",
      "31 c\n",
      "32 d\n",
      "33 f\n",
      "34 g\n",
      "35 h\n",
      "36 j\n",
      "37 k\n",
      "38 l\n",
      "39 m\n",
      "40 n\n",
      "41 o\n",
      "42 p\n",
      "43 q\n",
      "44 r\n",
      "45 s\n",
      "46 t\n",
      "47 u\n",
      "48 v\n",
      "49 w\n",
      "50 x\n",
      "51 z\n",
      "['A', 'B', 'C', 'D', 'E', 'F', 'G', 'I', 'K', 'L', 'M', 'N', 'O', 'P', 'Q', 'R', 'S', 'T', 'U', 'V', 'W', 'X', 'Z', 'a', 'b', 'c', 'd', 'f', 'g', 'h', 'j', 'k', 'l', 'm', 'n', 'o', 'p', 'q', 'r', 's', 't', 'u', 'v', 'w', 'x', 'z']\n"
     ]
    }
   ],
   "source": [
    "sorted_both = sorted(both)\n",
    "for i, word in enumerate(sorted_both):\n",
    "    print(i, word)\n",
    "    if sorted_both[i] == '*':\n",
    "        here = i\n",
    "\n",
    "blanks_removed = sorted_both[here+1 :]\n",
    "print(blanks_removed)\n",
    "        \n",
    "\n",
    "# The result should look like this:\n",
    "# blanks_removed = ['A', 'C', 'D', 'E', 'F', 'G', 'H', 'I', 'K', 'L', 'M', 'N', 'O', 'P', 'Q', 'R', \n",
    "#                   'S', 'T', 'U', 'V', 'W', 'X', 'Y', 'Z', 'b', 'c', 'd', 'f', 'g', 'i', 'j', 'k', \n",
    "#                   'l', 'o', 'p', 'q', 's', 'u', 'v', 'w', 'x', 'z']"
   ]
  },
  {
   "cell_type": "markdown",
   "metadata": {},
   "source": [
    ">**(d)** Try doing all of (a),(b) and (c) using a single list comprehension:"
   ]
  },
  {
   "cell_type": "code",
   "execution_count": 22,
   "metadata": {},
   "outputs": [
    {
     "name": "stdout",
     "output_type": "stream",
     "text": [
      "['A', 'B', 'C', 'D', 'E', 'F', 'G', 'I', 'K', 'L', 'M', 'N', 'O', 'P', 'Q', 'R', 'S', 'T', 'U', 'V', 'W', 'X', 'Z', 'a', 'b', 'c', 'd', 'f', 'g', 'h', 'j', 'k', 'l', 'm', 'n', 'o', 'p', 'q', 'r', 's', 't', 'u', 'v', 'w', 'x', 'z']\n"
     ]
    }
   ],
   "source": [
    "# Hint: you will need a conditional statement in your list comprehension. The result should look the same as in (c)\n",
    "blanks_removed = [word for word in (list(string.ascii_uppercase) + list(string.ascii_lowercase)) \n",
    "                  if word not in 'Ye Ji Hye']\n",
    "print(blanks_removed)"
   ]
  },
  {
   "cell_type": "markdown",
   "metadata": {},
   "source": [
    "### Problem 6 *Medium*: Multiplication Table\n",
    "In this problem we’ll use for-loops, some lists and control how values are printed on screen, to produce a full multiplication table (from 1 to 12). https://en.wikipedia.org/wiki/Multiplication_table"
   ]
  },
  {
   "cell_type": "markdown",
   "metadata": {},
   "source": [
    ">**(a)** We’ll first start by creating the multiplication table for the number 2, i.e. what you get when you multiply the numbers from 1 to 12 by 2. Use a for-loop:"
   ]
  },
  {
   "cell_type": "code",
   "execution_count": 23,
   "metadata": {},
   "outputs": [
    {
     "name": "stdout",
     "output_type": "stream",
     "text": [
      "[2, 4, 6, 8, 10, 12, 14, 16, 18, 20, 22, 24]\n"
     ]
    }
   ],
   "source": [
    "max_time = 12\n",
    "number = 2\n",
    "# ... Your code here\n",
    "times_2 = []\n",
    "for i in range(max_time):\n",
    "    times_2.append(number*(i+1))\n",
    "\n",
    "print(times_2)\n",
    "# times_2 should now be [2, 4, 6, 8, 10, 12, 14, 16, 18, 20, 22, 24]"
   ]
  },
  {
   "cell_type": "markdown",
   "metadata": {},
   "source": [
    ">**Hint:** remember that <code>range(x)</code> starts at 0 and finishes at $(x − 1)$. Give it 2 parameters to control where it should start at.)"
   ]
  },
  {
   "cell_type": "markdown",
   "metadata": {},
   "source": [
    ">**(b)** Now we’ll just format the result so that it looks nicer. Write code to automatically convert times_2 into the following string (separate with spaces):"
   ]
  },
  {
   "cell_type": "raw",
   "metadata": {},
   "source": [
    "2 | 2 4 6 8 10 12 14 16 18 20"
   ]
  },
  {
   "cell_type": "code",
   "execution_count": 24,
   "metadata": {},
   "outputs": [
    {
     "name": "stdout",
     "output_type": "stream",
     "text": [
      "2 | 2 4 6 8 10 12 14 16 18 20 22 24 \n"
     ]
    }
   ],
   "source": [
    "# Your code here\n",
    "multi_2 = str(number) + \" | \"\n",
    "for i in times_2:\n",
    "    multi_2 = multi_2 + str(i) + \" \"\n",
    "    \n",
    "print(multi_2)"
   ]
  },
  {
   "cell_type": "markdown",
   "metadata": {},
   "source": [
    ">**(c)** We’ve actually already generated one line of our full table. You could just copy and paste your code and change the loop to get all the lines from 1 to 12, but you might make a mistake, or you might want to get lines from 1 to 1000. Looking at your code, if you change the <code>number</code> variable it should create the correct line for the value contained in <code>number</code>. So we just have to loop over the values of 1 to 12 for this <code>number</code> variable.\n",
    "This is called nested loops, and you’ll use nested loops over and over again in your programs. Simply put another loop into your loop (make sure that you give the iterating variable a different name for each loop). What does the following piece of code do? Write down what you think the output would be if <code>max\\_time</code> contained the value 4 and then set <code>max\\_time</code> to 4 and run this piece of code and make sure you were right."
   ]
  },
  {
   "cell_type": "code",
   "execution_count": 25,
   "metadata": {},
   "outputs": [
    {
     "name": "stdout",
     "output_type": "stream",
     "text": [
      "0 0\n",
      "0 1\n",
      "0 2\n",
      "0 3\n",
      "1 0\n",
      "1 1\n",
      "1 2\n",
      "1 3\n",
      "2 0\n",
      "2 1\n",
      "2 2\n",
      "2 3\n",
      "3 0\n",
      "3 1\n",
      "3 2\n",
      "3 3\n"
     ]
    }
   ],
   "source": [
    "max_time = 4\n",
    "for i in range(max_time): \n",
    "    for j in range(max_time):\n",
    "        print(i, j)"
   ]
  },
  {
   "cell_type": "markdown",
   "metadata": {},
   "source": [
    ">**(d)** Using nested loops, create all the lines of the times table, for all numbers between 1 and 12. Use the same format as in part (b). Create two more lines on top to put the label of each column. You should get the following output:"
   ]
  },
  {
   "cell_type": "raw",
   "metadata": {},
   "source": [
    " 1 2 3 4 5 6 7 8 9 10 11 12\n",
    "------------------------------\n",
    "1 | 1 2 3 4 5 6 7 8 9 10 11 12\n",
    "2 | 2 4 6 8 10 12 14 16 18 20 22 24\n",
    "3 | 3 6 9 12 15 18 21 24 27 30 33 36\n",
    "4 | 4 8 12 16 20 24 28 32 36 40 44 48\n",
    "5 | 5 10 15 20 25 30 35 40 45 50 55 60\n",
    "6 | 6 12 18 24 30 36 42 48 54 60 66 72\n",
    "7 | 7 14 21 28 35 42 49 56 63 70 77 84\n",
    "8 | 8 16 24 32 40 48 56 64 72 80 88 96\n",
    "9 | 9 18 27 36 45 54 63 72 81 90 99 108\n",
    "10 | 10 20 30 40 50 60 70 80 90 100 110 120\n",
    "11 | 11 22 33 44 55 66 77 88 99 110 121 132\n",
    "12 | 12 24 36 48 60 72 84 96 108 120 132 144"
   ]
  },
  {
   "cell_type": "code",
   "execution_count": 26,
   "metadata": {},
   "outputs": [
    {
     "name": "stdout",
     "output_type": "stream",
     "text": [
      "    1 2 3 4 5 6 7 8 9 10 11 12 \n",
      "------------------------------------\n",
      "1 | 1 2 3 4 5 6 7 8 9 10 11 12 \n",
      "2 | 2 4 6 8 10 12 14 16 18 20 22 24 \n",
      "3 | 3 6 9 12 15 18 21 24 27 30 33 36 \n",
      "4 | 4 8 12 16 20 24 28 32 36 40 44 48 \n",
      "5 | 5 10 15 20 25 30 35 40 45 50 55 60 \n",
      "6 | 6 12 18 24 30 36 42 48 54 60 66 72 \n",
      "7 | 7 14 21 28 35 42 49 56 63 70 77 84 \n",
      "8 | 8 16 24 32 40 48 56 64 72 80 88 96 \n",
      "9 | 9 18 27 36 45 54 63 72 81 90 99 108 \n",
      "10 | 10 20 30 40 50 60 70 80 90 100 110 120 \n",
      "11 | 11 22 33 44 55 66 77 88 99 110 121 132 \n",
      "12 | 12 24 36 48 60 72 84 96 108 120 132 144 \n"
     ]
    }
   ],
   "source": [
    "def row(number, max_time):\n",
    "    row = []\n",
    "    for i in range(max_time):\n",
    "        row.append(number*(i+1))\n",
    "    return row\n",
    "\n",
    "def times_table(max_time):\n",
    "    print_header(max_time)\n",
    "    for i in range(max_time):\n",
    "        print_row(row(i+1,max_time))\n",
    "\n",
    "def print_row(row):\n",
    "    row_print = str(row[0]) + \" | \"\n",
    "    for i in row:\n",
    "        row_print = row_print + str(i) + \" \"\n",
    "    print(row_print)\n",
    "    \n",
    "def print_header(max_time):\n",
    "    header = \"    \"\n",
    "    for i in range(max_time):\n",
    "        header = header + str(i+1) + \" \"\n",
    "    header = header + \"\\n\" + \"-\"*max_time*3\n",
    "    print(header)\n",
    "\n",
    "\n",
    "times_table(12)"
   ]
  },
  {
   "cell_type": "markdown",
   "metadata": {},
   "source": [
    ">**Hint**: Generate a line for each line, and print it only when it’s complete. You actually do not need to create the intermediate list anymore, you can generate the string for the current line directly"
   ]
  },
  {
   "cell_type": "markdown",
   "metadata": {},
   "source": [
    ">**(e)** As you can see, our table is not well-aligned. We really need to enforce a minimum “size” used by each number. We can do that easily by putting spaces around the numbers when they are too short. Modify the code for your multiplication table so that the columns of the table it prints are aligned. Hint: the code <code>len(str(n)) == 1</code> will be <code>true</code> if the number contained in the variable n is one digit long.\n",
    "Correct your code to get the following output:"
   ]
  },
  {
   "cell_type": "raw",
   "metadata": {},
   "source": [
    "        1    2    3    4    5    6    7    8    9   10   11   12\n",
    "    ------------------------------------------------------------------------\n",
    " 1 |    1    2    3    4    5    6    7    8    9   10   11   12 \n",
    " 2 |    2    4    6    8   10   12   14   16   18   20   22   24 \n",
    " 3 |    3    6    9   12   15   18   21   24   27   30   33   36 \n",
    " 4 |    4    8   12   16   20   24   28   32   36   40   44   48 \n",
    " 5 |    5   10   15   20   25   30   35   40   45   50   55   60 \n",
    " 6 |    6   12   18   24   30   36   42   48   54   60   66   72 \n",
    " 7 |    7   14   21   28   35   42   49   56   63   70   77   84 \n",
    " 8 |    8   16   24   32   40   48   56   64   72   80   88   96 \n",
    " 9 |    9   18   27   36   45   54   63   72   81   90   99  108 \n",
    "10 |   10   20   30   40   50   60   70   80   90  100  110  120 \n",
    "11 |   11   22   33   44   55   66   77   88   99  110  121  132 \n",
    "12 |   12   24   36   48   60   72   84   96  108  120  132  144 "
   ]
  },
  {
   "cell_type": "markdown",
   "metadata": {},
   "source": [
    ">**Hint:** Remember the <code>ljust(), rjust()</code> and <code>center()</code>functions!   "
   ]
  },
  {
   "cell_type": "code",
   "execution_count": 27,
   "metadata": {},
   "outputs": [
    {
     "name": "stdout",
     "output_type": "stream",
     "text": [
      "        1   2   3   4   5   6   7   8   9  10  11  12\n",
      "------------------------------------------------------------\n",
      " 1 |    1   2   3   4   5   6   7   8   9  10  11  12\n",
      " 2 |    2   4   6   8  10  12  14  16  18  20  22  24\n",
      " 3 |    3   6   9  12  15  18  21  24  27  30  33  36\n",
      " 4 |    4   8  12  16  20  24  28  32  36  40  44  48\n",
      " 5 |    5  10  15  20  25  30  35  40  45  50  55  60\n",
      " 6 |    6  12  18  24  30  36  42  48  54  60  66  72\n",
      " 7 |    7  14  21  28  35  42  49  56  63  70  77  84\n",
      " 8 |    8  16  24  32  40  48  56  64  72  80  88  96\n",
      " 9 |    9  18  27  36  45  54  63  72  81  90  99 108\n",
      "10 |   10  20  30  40  50  60  70  80  90 100 110 120\n",
      "11 |   11  22  33  44  55  66  77  88  99 110 121 132\n",
      "12 |   12  24  36  48  60  72  84  96 108 120 132 144\n"
     ]
    }
   ],
   "source": [
    "# Your code here\n",
    "def row(number, max_time):\n",
    "    row = []\n",
    "    for i in range(max_time):\n",
    "        row.append(number*(i+1))\n",
    "    return row\n",
    "\n",
    "def times_table(max_time):\n",
    "    print_header(max_time)\n",
    "    for i in range(max_time):\n",
    "        print_row(row(i+1,max_time))\n",
    "\n",
    "def print_row(row):\n",
    "    row_print = str(row[0]).rjust(2) + \" | \"\n",
    "    for i in row:\n",
    "        row_print = row_print + str(i).rjust(4)\n",
    "    print(row_print)\n",
    "    \n",
    "def print_header(max_time):\n",
    "    header = \"     \"\n",
    "    for i in range(max_time):\n",
    "        header = header + str(i+1).rjust(4)\n",
    "    header = header + \"\\n\" + \"-\"*max_time*5\n",
    "    print(header)\n",
    "\n",
    "\n",
    "times_table(12)"
   ]
  },
  {
   "cell_type": "markdown",
   "metadata": {},
   "source": [
    "### Problem 7. Pascal’s triangle\n",
    "\n",
    "This is a slight variation on the previous exercise. The goal is to generate [Pascal's Triangle](http://en.wikipedia.org/wiki/Pascal's_triangle):\n",
    "\n",
    "<p><center><a href=\"http://commons.wikimedia.org/wiki/File:PascalTriangleAnimated2.gif#mediaviewer/File:PascalTriangleAnimated2.gif\"><img src=\"http://upload.wikimedia.org/wikipedia/commons/0/0d/PascalTriangleAnimated2.gif\" alt=\"PascalTriangleAnimated2.gif\"></a></center></p>\n",
    "\n",
    "The rules to generate the triangle are quite simple:\n",
    "\n",
    "* Each number is the sum of the two just above it, the above-left and the above-right one. (e.g. 5 on the last line is 1 + 4).\n",
    "* The top and sides of the triangle are initialised with 1s."
   ]
  },
  {
   "cell_type": "markdown",
   "metadata": {},
   "source": [
    ">**(a)** For this exercise, we’ll use a 2D list. This is really just a list of list, think of it like a matrix (or an Excel spreadsheet if you hate matrices). Example of usage:"
   ]
  },
  {
   "cell_type": "code",
   "execution_count": 28,
   "metadata": {},
   "outputs": [
    {
     "data": {
      "text/plain": [
       "[[1], [2, 3], [4, 5, 6]]"
      ]
     },
     "execution_count": 28,
     "metadata": {},
     "output_type": "execute_result"
    }
   ],
   "source": [
    "list_list = [[1], [2, 3], [4, 5]]\n",
    "list_list[0]\n",
    "#[1]\n",
    "list_list[0][0]\n",
    "#1\n",
    "list_list[1][1]\n",
    "#3\n",
    "list_list[2].append(6)\n",
    "list_list"
   ]
  },
  {
   "cell_type": "markdown",
   "metadata": {},
   "source": [
    ">Let’s first start by generating a 2D list with the exact same structure as Pascal’s triangle (we’ll compute the correct values later, let’s fill it up with 1’s for now). We need to generate a list of lists with 1 element in the first list, 2 elements in the second list, 3 on the third list, etc... Modify the following code, using nested loops, to create the correct result:"
   ]
  },
  {
   "cell_type": "code",
   "execution_count": 29,
   "metadata": {},
   "outputs": [
    {
     "name": "stdout",
     "output_type": "stream",
     "text": [
      "[[1], [1, 1], [1, 1, 1], [1, 1, 1, 1], [1, 1, 1, 1, 1]]\n"
     ]
    }
   ],
   "source": [
    "####\n",
    "# Pascal's Triangle\n",
    "#\n",
    "#  Create and print Pascal's triangle\n",
    "####\n",
    "\n",
    "number_lines = 6\n",
    "# Part (a)\n",
    "triangle = [[1]]\n",
    "   # Complete the code here\n",
    "for i in range(1,number_lines-1):\n",
    "    triangle.append([])\n",
    "    for j in range(i+1):\n",
    "        triangle[i].append(1)\n",
    "print(triangle)\n",
    "# Should get [[1], [1, 1], [1, 1, 1], [1, 1, 1, 1], [1, 1, 1, 1, 1]]"
   ]
  },
  {
   "cell_type": "markdown",
   "metadata": {},
   "source": [
    ">**Hint:** remember range iterates up to a variable’s value"
   ]
  },
  {
   "cell_type": "markdown",
   "metadata": {},
   "source": [
    ">**(b)** Write some code to print your 2D list as a triangle! Where are the above-left and above-right items associated with each element in this view? This is relevant, as it corresponds exactly to accessing the items of your triangle with indices."
   ]
  },
  {
   "cell_type": "raw",
   "metadata": {},
   "source": [
    "1\n",
    "1 1\n",
    "1 1 1 \n",
    "1 1 1 1\n",
    "1 1 1 1 1"
   ]
  },
  {
   "cell_type": "code",
   "execution_count": 30,
   "metadata": {},
   "outputs": [
    {
     "name": "stdout",
     "output_type": "stream",
     "text": [
      "1 \n",
      "1 1 \n",
      "1 1 1 \n",
      "1 1 1 1 \n",
      "1 1 1 1 1 \n"
     ]
    }
   ],
   "source": [
    "# Your code here\n",
    "for i in range(len(triangle)):\n",
    "    row = \"\"\n",
    "    for j in range(i+1):\n",
    "        row = row + str(triangle[i][j]) + \" \"\n",
    "    print(row)"
   ]
  },
  {
   "cell_type": "markdown",
   "metadata": {},
   "source": [
    ">**(c)** Now modify your code to get the actual values of Pascal’s triangle. Remember you can access elements you already generated in a previous iteration of the for-loop (e.g. <code>triangle[i-1][j]</code>). You will have to be careful about accessing numbers that do not exist, add if-statements to handle special cases.\n",
    "(**Hint:** When you try to access the “above-right” element, you can compare i and j to figure out whether or not it exists)"
   ]
  },
  {
   "cell_type": "raw",
   "metadata": {},
   "source": [
    "1\n",
    "1 1\n",
    "1 2 1\n",
    "1 3 3 1\n",
    "1 4 6 4 1"
   ]
  },
  {
   "cell_type": "code",
   "execution_count": 31,
   "metadata": {},
   "outputs": [
    {
     "name": "stdout",
     "output_type": "stream",
     "text": [
      "1 \n",
      "1 1 \n",
      "1 2 1 \n",
      "1 3 3 1 \n",
      "1 4 6 4 1 \n",
      "1 5 10 10 5 1 \n",
      "[[1], [1, 1], [1, 2, 1], [1, 3, 3, 1], [1, 4, 6, 4, 1], [1, 5, 10, 10, 5, 1], []]\n"
     ]
    }
   ],
   "source": [
    "# Your code here\n",
    "number_lines = 6\n",
    "triangle = [[]]\n",
    "for i in range(number_lines):\n",
    "    triangle.append([])\n",
    "    row = \"\"\n",
    "    for j in range(i+1):\n",
    "        if(j==0 or j==i):\n",
    "            triangle[i].append(1)\n",
    "        else:\n",
    "            triangle[i].append(triangle[i-1][j-1] + triangle[i-1][j])  \n",
    "        row = row + str(triangle[i][j]) + \" \"\n",
    "    print(row)\n",
    "    \n",
    "print(triangle)"
   ]
  },
  {
   "cell_type": "markdown",
   "metadata": {},
   "source": [
    ">**(d)** (advanced) Now modify the code printing your triangle to make it actually look just like the triangle shown at the start of the problem.\n",
    "You’ll have to adjust the space used by each element again, just like for the times table."
   ]
  },
  {
   "cell_type": "raw",
   "metadata": {},
   "source": [
    "           1            \n",
    "         1   1          \n",
    "       1   2   1        \n",
    "     1   3   3   1      \n",
    "   1   4   6   4   1    \n",
    " 1   5   10  10  5   1  "
   ]
  },
  {
   "cell_type": "code",
   "execution_count": 32,
   "metadata": {},
   "outputs": [
    {
     "name": "stdout",
     "output_type": "stream",
     "text": [
      "                                        1                                        \n",
      "                                    1        1                                   \n",
      "                               1        2        1                               \n",
      "                           1        3        3        1                          \n",
      "                      1        4        6        4        1                      \n",
      "                  1        5        10       10       5        1                 \n",
      "             1        6        15       20       15       6        1             \n",
      "         1        7        21       35       35       21       7        1        \n",
      "    1        8        28       56       70       56       28       8        1    \n"
     ]
    }
   ],
   "source": [
    "# Your code here\n",
    "number_lines = 9\n",
    "len_space = (number_lines)**2\n",
    "triangle = [[]]\n",
    "for i in range(number_lines):\n",
    "    triangle.append([])\n",
    "    row = \"\"\n",
    "    for j in range(i+1):\n",
    "        if(j==0 or j==i):\n",
    "            triangle[i].append(1)\n",
    "        else:\n",
    "            triangle[i].append(triangle[i-1][j-1] + triangle[i-1][j])  \n",
    "        row = row + str(triangle[i][j]).center(number_lines)\n",
    "    print(row.center(len_space))"
   ]
  },
  {
   "cell_type": "markdown",
   "metadata": {},
   "source": [
    "### Problem 7. Scrolling display\n",
    "\n",
    "This exercise will get you to play with strings and indices. The goal is to create a simulation of a dot-matrix display, and scroll some text through it. Remember how your cheap alarm-clock shows time? That’s a dot-matrix display. We want to get something like that: http://www.youtube.com/watch?v=vWFPXTyoZCA"
   ]
  },
  {
   "cell_type": "markdown",
   "metadata": {},
   "source": [
    ">**(a)** We start easy, and just try to scroll some text directly. Complete the following code in order to print only display_width characters of the message.\n",
    "Here, we use an infinite loop (this is a big source of errors, but sometimes useful. Stop your program by pressing CTRL-C), so we have to increment curr_start manually. Make sure to verify that it doesn’t go beyond the overall length of the message."
   ]
  },
  {
   "cell_type": "code",
   "execution_count": 33,
   "metadata": {},
   "outputs": [
    {
     "name": "stdout",
     "output_type": "stream",
     "text": [
      "This is a completely relevant \n",
      "his is a completely relevant e\n",
      "is is a completely relevant ex\n",
      "s is a completely relevant exe\n",
      " is a completely relevant exer\n",
      "is a completely relevant exerc\n",
      "s a completely relevant exerci\n",
      " a completely relevant exercis\n",
      "a completely relevant exercise\n",
      " completely relevant exercise\n",
      "completely relevant exercise\n",
      "ompletely relevant exercise\n",
      "mpletely relevant exercise\n",
      "pletely relevant exercise\n",
      "letely relevant exercise\n",
      "etely relevant exercise\n",
      "tely relevant exercise\n",
      "ely relevant exercise\n",
      "ly relevant exercise\n"
     ]
    }
   ],
   "source": [
    "message = 'This is a completely relevant exercise'\n",
    "display_width = 30\n",
    "\n",
    "# Get the message length\n",
    "message_length = len(message)\n",
    "curr_start = 0\n",
    "\n",
    "while True:\n",
    "# Grab the important part of the message \n",
    "    display = message[curr_start:display_width+curr_start] # ... Replace me\n",
    "    # Show the results\n",
    "    print(display)\n",
    "    curr_start += 1\n",
    "    if curr_start >= message_length/2:\n",
    "        break\n",
    "# Complete me..."
   ]
  },
  {
   "cell_type": "markdown",
   "metadata": {},
   "source": [
    ">We should get something like this:"
   ]
  },
  {
   "cell_type": "raw",
   "metadata": {},
   "source": [
    "This is a completely relevant\n",
    "his is a completely relevant e\n",
    "is is a completely relevant ex\n",
    "s is a completely relevant exe\n",
    " is a completely relevant exer\n",
    "is a completely relevant exerc\n",
    "s a completely relevant exerci\n",
    " a completely relevant exercis\n",
    "a completely relevant exercise\n",
    " completely relevant exercise\n",
    "completely relevant exercise\n",
    "ompletely relevant exercise\n",
    "mpletely relevant exercise\n",
    "pletely relevant exercise\n",
    "letely relevant exercise\n",
    "etely relevant exercise\n",
    "tely relevant exercise\n",
    "ely relevant exercise\n",
    "ly relevant exercise"
   ]
  },
  {
   "cell_type": "markdown",
   "metadata": {},
   "source": [
    ">**(c)** Now we will make it so that the message is repeated accross the display. You will need to concatenate another part of the message at the end of the display string. You can modify the original string to add a few spaces at the end, so that it doesn’t repeat directly and look weird (e.g. instead of getting “exerciseThis” you should get “exercise This”). Your output should now be:"
   ]
  },
  {
   "cell_type": "raw",
   "metadata": {},
   "source": [
    "This is a completely relevant \n",
    "his is a completely relevant e\n",
    "is is a completely relevant ex\n",
    "s is a completely relevant exe\n",
    " is a completely relevant exer\n",
    "is a completely relevant exerc\n",
    "s a completely relevant exerci\n",
    " a completely relevant exercis\n",
    "a completely relevant exercise\n",
    " completely relevant exercise \n",
    "completely relevant exercise  \n",
    "ompletely relevant exercise   \n",
    "mpletely relevant exercise   T\n",
    "pletely relevant exercise   Th\n",
    "letely relevant exercise   Thi\n",
    "etely relevant exercise   This\n",
    "tely relevant exercise   This \n",
    "ely relevant exercise   This i\n",
    "ly relevant exercise   This is\n",
    "y relevant exercise   This is \n",
    " relevant exercise   This is a\n",
    "relevant exercise   This is a \n",
    "elevant exercise   This is a c\n",
    "levant exercise   This is a co\n",
    "evant exercise   This is a com"
   ]
  },
  {
   "cell_type": "code",
   "execution_count": 34,
   "metadata": {},
   "outputs": [
    {
     "name": "stdout",
     "output_type": "stream",
     "text": [
      "This is a completely relevant \n",
      "his is a completely relevant e\n",
      "is is a completely relevant ex\n",
      "s is a completely relevant exe\n",
      " is a completely relevant exer\n",
      "is a completely relevant exerc\n",
      "s a completely relevant exerci\n",
      " a completely relevant exercis\n",
      "a completely relevant exercise\n",
      " completely relevant exercise \n",
      "completely relevant exercise  \n",
      "ompletely relevant exercise   \n",
      "mpletely relevant exercise    \n",
      "pletely relevant exercise    T\n",
      "letely relevant exercise    Th\n",
      "etely relevant exercise    Thi\n",
      "tely relevant exercise    This\n",
      "ely relevant exercise    This \n",
      "ly relevant exercise    This i\n",
      "y relevant exercise    This is\n",
      " relevant exercise    This is \n"
     ]
    }
   ],
   "source": [
    "# Your code here\n",
    "message = 'This is a completely relevant exercise   '\n",
    "display_width = 30\n",
    "\n",
    "# Get the message length\n",
    "message_length = len(message)\n",
    "curr_start = 0\n",
    "\n",
    "while True:\n",
    "# Grab the important part of the message \n",
    "    display = message[curr_start:display_width+curr_start] # ... Replace me\n",
    "    if display_width+curr_start > message_length:\n",
    "        display = display +\" \"+ message[:display_width - (message_length-curr_start+1)]\n",
    "    # Show the results\n",
    "    print(display)\n",
    "    if curr_start >= message_length:\n",
    "        curr_start = 0\n",
    "    else:\n",
    "        curr_start += 1\n",
    "    if curr_start >= message_length/2:\n",
    "        break\n",
    "# Complete me..."
   ]
  },
  {
   "cell_type": "markdown",
   "metadata": {},
   "source": [
    ">**(c)** You can make it so that your terminal is “cleared” by using the “os” module and add the following command at the start of your loop:"
   ]
  },
  {
   "cell_type": "code",
   "execution_count": 35,
   "metadata": {},
   "outputs": [
    {
     "name": "stdout",
     "output_type": "stream",
     "text": [
      "This is a completely relevant \n",
      "his is a completely relevant e\n",
      "is is a completely relevant ex\n",
      "s is a completely relevant exe\n",
      " is a completely relevant exer\n",
      "is a completely relevant exerc\n",
      "s a completely relevant exerci\n",
      " a completely relevant exercis\n",
      "a completely relevant exercise\n",
      " completely relevant exercise \n",
      "completely relevant exercise  \n",
      "ompletely relevant exercise   \n",
      "mpletely relevant exercise    \n",
      "pletely relevant exercise    T\n",
      "letely relevant exercise    Th\n",
      "etely relevant exercise    Thi\n",
      "tely relevant exercise    This\n",
      "ely relevant exercise    This \n",
      "ly relevant exercise    This i\n",
      "y relevant exercise    This is\n",
      " relevant exercise    This is \n"
     ]
    }
   ],
   "source": [
    "import os\n",
    "\n",
    "# Your code here\n",
    "message = 'This is a completely relevant exercise   '\n",
    "display_width = 30\n",
    "\n",
    "# Get the message length\n",
    "message_length = len(message)\n",
    "curr_start = 0\n",
    "\n",
    "while True:\n",
    "    os.system('cls' if os.name=='nt' else 'clear')\n",
    "    # Grab the important part of the message \n",
    "    display = message[curr_start:display_width+curr_start] # ... Replace me\n",
    "    if display_width+curr_start > message_length:\n",
    "        display = display +\" \"+ message[:display_width - (message_length-curr_start+1)]\n",
    "    # Show the results\n",
    "    print(display)\n",
    "    if curr_start >= message_length:\n",
    "        curr_start = 0\n",
    "    else:\n",
    "        curr_start += 1\n",
    "    if curr_start >= message_length/2:\n",
    "        break"
   ]
  },
  {
   "cell_type": "markdown",
   "metadata": {},
   "source": [
    ">You will see more about os.system later (if this looks complicated, it’s because this works on both Windows and Mac OS X/Linux).\n",
    "You can then slow down the speed of the display by putting small pauses between each iteration of the loop. You do that by importing the module time and using sleep:"
   ]
  },
  {
   "cell_type": "code",
   "execution_count": 36,
   "metadata": {},
   "outputs": [
    {
     "name": "stdout",
     "output_type": "stream",
     "text": [
      "This is a completely relevant \n",
      "his is a completely relevant e\n",
      "is is a completely relevant ex\n",
      "s is a completely relevant exe\n",
      " is a completely relevant exer\n",
      "is a completely relevant exerc\n",
      "s a completely relevant exerci\n",
      " a completely relevant exercis\n",
      "a completely relevant exercise\n",
      " completely relevant exercise \n",
      "completely relevant exercise  \n",
      "ompletely relevant exercise   \n",
      "mpletely relevant exercise    \n",
      "pletely relevant exercise    T\n",
      "letely relevant exercise    Th\n",
      "etely relevant exercise    Thi\n",
      "tely relevant exercise    This\n",
      "ely relevant exercise    This \n",
      "ly relevant exercise    This i\n",
      "y relevant exercise    This is\n",
      " relevant exercise    This is \n"
     ]
    }
   ],
   "source": [
    "import time\n",
    "import os\n",
    "\n",
    "# Your code here\n",
    "message = 'This is a completely relevant exercise   '\n",
    "display_width = 30\n",
    "\n",
    "# Get the message length\n",
    "message_length = len(message)\n",
    "curr_start = 0\n",
    "\n",
    "while True:\n",
    "    os.system('cls' if os.name=='nt' else 'clear')\n",
    "    # Grab the important part of the message \n",
    "    display = message[curr_start:display_width+curr_start] # ... Replace me\n",
    "    if display_width+curr_start > message_length:\n",
    "        display = display +\" \"+ message[:display_width - (message_length-curr_start+1)]\n",
    "    # Show the results\n",
    "    time.sleep(0.2)\n",
    "    print(display)\n",
    "    if curr_start >= message_length:\n",
    "        curr_start = 0\n",
    "    else:\n",
    "        curr_start += 1\n",
    "    if curr_start >= message_length/2:\n",
    "        break"
   ]
  },
  {
   "cell_type": "markdown",
   "metadata": {},
   "source": [
    ">Remember to read on function you do not know, for example in the Standard Library online.\n",
    "With those two functions, it should look like you have a real scrolling display in your Ter- minal."
   ]
  }
 ],
 "metadata": {
  "kernelspec": {
   "display_name": "Python 3",
   "language": "python",
   "name": "python3"
  },
  "language_info": {
   "codemirror_mode": {
    "name": "ipython",
    "version": 3
   },
   "file_extension": ".py",
   "mimetype": "text/x-python",
   "name": "python",
   "nbconvert_exporter": "python",
   "pygments_lexer": "ipython3",
   "version": "3.7.4"
  }
 },
 "nbformat": 4,
 "nbformat_minor": 1
}
